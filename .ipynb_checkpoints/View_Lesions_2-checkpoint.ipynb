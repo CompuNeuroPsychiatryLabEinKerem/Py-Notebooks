{
 "cells": [
  {
   "cell_type": "code",
   "execution_count": 4,
   "metadata": {},
   "outputs": [],
   "source": [
    "import os, re\n",
    "import pickle\n",
    "opj = os.path.join\n",
    "import numpy as np\n",
    "import nibabel as nib \n",
    "from nilearn.plotting import view_img\n",
    "import toolz\n",
    "\n",
    "import ipywidgets as widgets\n",
    "from ipywidgets import interact, interact_manual\n",
    "from IPython.display import HTML, Image, display\n",
    "from matplotlib import pyplot as plt\n",
    "%matplotlib inline"
   ]
  },
  {
   "cell_type": "code",
   "execution_count": 47,
   "metadata": {},
   "outputs": [],
   "source": [
    "LESION_MAPS_FILE = r'C:\\Lab\\Lesion Project\\Maps\\Spatial\\FinalMaps.pic'\n",
    "LESION_DATA = pickle.load(open(LESION_MAPS_FILE, 'rb'))\n",
    "VOL_SIZE = LESION_DATA['volSize']\n",
    "GM_INDICES = LESION_DATA['gmIndices']\n",
    "SUBJECT_MAPS = {key:LESION_DATA[key] for key in ['Mean', 'Max']}\n",
    "\n",
    "SOME_NMI_FILE = r'C:\\Lab\\Atlases\\Brainnetome\\BN_Atlas_246_3mm.nii.gz'\n",
    "obj = nib.load(SOME_NMI_FILE)\n",
    "NII_HEADER = obj.header\n",
    "NII_HEADER.set_data_dtype(float)\n",
    "NII_AFFINE = obj.affine\n",
    "\n",
    "LESION_MASKS = pickle.load(open(r'C:\\Lab\\Lesion Project\\Maps\\Spatial\\LesionMasks.pic', 'rb'))\n",
    "SUBJECT_KEYS = [f'{i+1:02}' for i in range(68)]"
   ]
  },
  {
   "cell_type": "code",
   "execution_count": 48,
   "metadata": {},
   "outputs": [],
   "source": [
    "def prepareNiiObject(sbjKey, aggKey, weighingKey):\n",
    "    iSbj = int(sbjKey)-1\n",
    "    sbjVxlValues = SUBJECT_MAPS[aggKey][weighingKey][:,iSbj]\n",
    "    imgdata = np.zeros(np.prod(VOL_SIZE))\n",
    "    imgdata[GM_INDICES] = sbjVxlValues\n",
    "    imgdata = imgdata.reshape(VOL_SIZE)\n",
    "    niiMapObj = nib.Nifti1Image(imgdata, NII_AFFINE, NII_HEADER)\n",
    "    \n",
    "    sbjMaskInds = LESION_MASKS[iSbj]\n",
    "    imgdata = np.zeros(np.prod(VOL_SIZE))\n",
    "    imgdata[sbjMaskInds] = 1\n",
    "    imgdata = imgdata.reshape(VOL_SIZE)\n",
    "    niiMaskObj = nib.Nifti1Image(imgdata, NII_AFFINE, NII_HEADER)\n",
    "    \n",
    "    return niiMapObj, niiMaskObj"
   ]
  },
  {
   "cell_type": "code",
   "execution_count": 75,
   "metadata": {},
   "outputs": [
    {
     "data": {
      "application/vnd.jupyter.widget-view+json": {
       "model_id": "ebf355c8afc2450db94b375a65f903ca",
       "version_major": 2,
       "version_minor": 0
      },
      "text/plain": [
       "interactive(children=(Dropdown(description='sbjKey', options=('01', '02', '03', '04', '05', '06', '07', '08', …"
      ]
     },
     "metadata": {},
     "output_type": "display_data"
    }
   ],
   "source": [
    "htmlObjs = [0, 0]\n",
    "\n",
    "@interact(sbjKey=SUBJECT_KEYS, aggKey=['Mean', 'Max'], threshold=(0,1,0.05))\n",
    "def view(sbjKey, aggKey, threshold=0.2):\n",
    "    niiMapObj, niiMaskObj = prepareNiiObject(sbjKey, aggKey, 'None')\n",
    "    htmlObjs[0] = view_img(niiMapObj, threshold=threshold, vmax=1)\n",
    "    htmlObjs[0].width = 900\n",
    "    htmlObjs[0].height = 270*1.5\n",
    "    htmlObjs[1] = view_img(niiMaskObj, threshold=0.9, vmax=1, resampling_interpolation='nearest')\n",
    "    htmlObjs[0].width = 900\n",
    "    htmlObjs[0].height = 270*1.5\n",
    "    display(htmlObjs[0])\n",
    "    display(htmlObjs[1])"
   ]
  },
  {
   "cell_type": "code",
   "execution_count": null,
   "metadata": {},
   "outputs": [],
   "source": []
  }
 ],
 "metadata": {
  "kernelspec": {
   "display_name": "Python 3",
   "language": "python",
   "name": "python3"
  },
  "language_info": {
   "codemirror_mode": {
    "name": "ipython",
    "version": 3
   },
   "file_extension": ".py",
   "mimetype": "text/x-python",
   "name": "python",
   "nbconvert_exporter": "python",
   "pygments_lexer": "ipython3",
   "version": "3.7.3"
  }
 },
 "nbformat": 4,
 "nbformat_minor": 4
}
